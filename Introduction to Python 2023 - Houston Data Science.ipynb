{
 "cells": [
  {
   "attachments": {},
   "cell_type": "markdown",
   "id": "1f4dccd9",
   "metadata": {},
   "source": [
    "# Introduction to Python 2023 - Houston Data Science\n",
    "\n",
    "Happy New Year!!! Welcome to our first meetup of 2023! [Houston Data Science meetup][1] is a group that meets to learn about the theory and practice of data science.\n",
    "\n",
    "![3]\n",
    "\n",
    "In this meetup, we will get introduced to the [Python programming language][2]. Python is both easy to learn and powerful. Python can be used to build websites, analyze complex data, create world-class machine learning algorithms, and even develop games. Python skills are in high demand across a wide variety of industries.\n",
    "\n",
    "[1]: https://www.meetup.com/Houston-Data-Science/\n",
    "[2]: https://python.org\n",
    "[3]: images/intropython2023.png"
   ]
  },
  {
   "cell_type": "markdown",
   "id": "a1ad4ad3",
   "metadata": {},
   "source": [
    "## Master the Fundamentals of Python\n",
    "\n",
    "[My Python book for beginners - code will be sent to get it for free](https://www.dunderdata.com/master-the-fundamentals-of-python)"
   ]
  },
  {
   "cell_type": "markdown",
   "id": "a9d15262",
   "metadata": {},
   "source": [
    "## Getting Started with Jupyter Notebooks\n",
    "\n",
    "* Everything is a cell\n",
    "* Cells are either Code or Markdown\n",
    "    * Code cells execute Python code\n",
    "    * Markdown cells contain text/images/links\n",
    "    * By default, cells are code\n",
    "* Two Modes\n",
    "    * Edit - edit the cell as a normal text box\n",
    "    * Command - keys have special meanings\n",
    "* Keyboard shortcuts\n",
    "    * ESC - Go to command mode\n",
    "    * ENTER - Go to edit mode\n",
    "    * A - add cell above\n",
    "    * B - add cell below\n",
    "    * Arrow keys - move up/down cells\n",
    "* Executing Cells\n",
    "    * SHIFT + ENTER"
   ]
  },
  {
   "cell_type": "code",
   "execution_count": null,
   "id": "88653392",
   "metadata": {},
   "outputs": [],
   "source": []
  },
  {
   "cell_type": "code",
   "execution_count": null,
   "id": "70a7df2d",
   "metadata": {},
   "outputs": [],
   "source": []
  },
  {
   "cell_type": "markdown",
   "id": "a61cc6b8",
   "metadata": {},
   "source": [
    "## Python as a calculator\n",
    "\n",
    "### Arithmetic operators\n",
    "\n",
    "Basic arithmetic with:\n",
    "\n",
    "* `+`, `-`, `*`, `/`\n",
    "* Place one number on either side"
   ]
  },
  {
   "cell_type": "code",
   "execution_count": null,
   "id": "9d653796",
   "metadata": {},
   "outputs": [],
   "source": []
  },
  {
   "cell_type": "code",
   "execution_count": null,
   "id": "3cbcb7e2",
   "metadata": {},
   "outputs": [],
   "source": []
  },
  {
   "cell_type": "markdown",
   "id": "8e2b2e8f",
   "metadata": {},
   "source": [
    "### More arithmetic operators\n",
    "\n",
    "* `**` - exponentiation (raise to a power)\n",
    "* `//` - floor division (quotient)\n",
    "* `%` - modular division (remainder)"
   ]
  },
  {
   "cell_type": "code",
   "execution_count": null,
   "id": "93c04448",
   "metadata": {},
   "outputs": [],
   "source": []
  },
  {
   "cell_type": "code",
   "execution_count": null,
   "id": "3b61118c",
   "metadata": {},
   "outputs": [],
   "source": []
  },
  {
   "cell_type": "markdown",
   "id": "82898699",
   "metadata": {},
   "source": [
    "### Operator precedence and parentheses\n",
    "\n",
    "From highest to lowest\n",
    "\n",
    "| Operator               | Name                                                  |\n",
    "|------------------------|-------------------------------------------------------|\n",
    "| `**`                   | Exponentiation                                        |\n",
    "| `*, /, //, %, @`       | Multiplication, Division, Floor Division, Modulus, At |\n",
    "| `+, -`                 | Addition, Subtraction                                 |\n",
    "| `<, <=, >, >=, !=, ==` | Comparison operators                                  |\n",
    "| `not`                   | Boolean NOT                                        |\n",
    "| `and`                   | Boolean AND                                        |\n",
    "| `or`                   | Boolean OR                                        |"
   ]
  },
  {
   "cell_type": "code",
   "execution_count": null,
   "id": "cd2fc278",
   "metadata": {},
   "outputs": [],
   "source": [
    "5 + 3 ** 2 - 20 // 7"
   ]
  },
  {
   "cell_type": "code",
   "execution_count": null,
   "id": "92c04565",
   "metadata": {},
   "outputs": [],
   "source": [
    "(5 + 3) ** 2 - 20 // 7"
   ]
  },
  {
   "cell_type": "code",
   "execution_count": null,
   "id": "357d7293",
   "metadata": {},
   "outputs": [],
   "source": [
    "((5 + 3) ** 2 - 20) // 7"
   ]
  },
  {
   "cell_type": "code",
   "execution_count": null,
   "id": "2274c580",
   "metadata": {},
   "outputs": [],
   "source": []
  },
  {
   "cell_type": "code",
   "execution_count": null,
   "id": "a1d9ab4c",
   "metadata": {},
   "outputs": [],
   "source": []
  },
  {
   "cell_type": "markdown",
   "id": "34e4929a",
   "metadata": {},
   "source": [
    "### Variables\n",
    "\n",
    "* Assignment statement\n",
    "    * single `=` sign\n",
    "    * variable name on left, value on right\n",
    "\n",
    "```python\n",
    "x = 5\n",
    "interest_rate = 0.05\n",
    "```"
   ]
  },
  {
   "cell_type": "code",
   "execution_count": null,
   "id": "8aec0e9b",
   "metadata": {},
   "outputs": [],
   "source": []
  },
  {
   "cell_type": "code",
   "execution_count": null,
   "id": "3dcd0014",
   "metadata": {},
   "outputs": [],
   "source": []
  },
  {
   "cell_type": "markdown",
   "id": "a8393251",
   "metadata": {},
   "source": [
    "## Types in Python\n",
    "\n",
    "* \"Everything\" is an object\n",
    "* Analogy to real world\n",
    "    * Knowing a type lets you know the object's abilities\n",
    "        * Car - drive, turn on AC, turn on radio, honk\n",
    "        * Cup - holds liquid\n",
    "        * Lawnmower - cut grass\n",
    "* In Python, we have many types, each with different abilities\n",
    "    * `int` - integer whole number, add/subtract/multiply/divide\n",
    "        * 3, -99, 588\n",
    "    * `float` - number with decimal\n",
    "        * 4.4, 9.32\n",
    "    * `bool` - True/False (used in conditional statements (if/else)\n",
    "        * Only two values - `True` and `False`\n",
    "    * `str` - strings - sequence of characters\n",
    "        * `'python is very popular'`\n",
    "        * `'you can program tetris in python'`\n",
    "    * `list` - sequence of any objects\n",
    "        * `[5, 6.4, False, 'python']`\n",
    "    * `dict` - dictionary - key/value pairs (like a real world dictionary)\n",
    "        * `{'Texas': 29, 'Florida': 22, 'Arkansas': 3}`        \n",
    "        \n",
    "### Let's create all these built-in types"
   ]
  },
  {
   "cell_type": "code",
   "execution_count": null,
   "id": "eda5fdfb",
   "metadata": {},
   "outputs": [],
   "source": []
  },
  {
   "cell_type": "code",
   "execution_count": null,
   "id": "d302ff4d",
   "metadata": {},
   "outputs": [],
   "source": []
  },
  {
   "cell_type": "code",
   "execution_count": null,
   "id": "1374ebb6",
   "metadata": {},
   "outputs": [],
   "source": []
  },
  {
   "cell_type": "code",
   "execution_count": null,
   "id": "c2fee42d",
   "metadata": {},
   "outputs": [],
   "source": []
  },
  {
   "cell_type": "code",
   "execution_count": null,
   "id": "93c732cf",
   "metadata": {},
   "outputs": [],
   "source": []
  },
  {
   "cell_type": "markdown",
   "id": "efb2743a",
   "metadata": {},
   "source": [
    "### If you know an object's type then you know its abilities\n",
    "\n",
    "### Access an object's abilities through operators and dot notation\n",
    "\n",
    "* Operators\n",
    "    * `+`, `-`, `*`, `/`, etc...\n",
    "    * `<`, `>`, etc...\n",
    "    * `and`, `or`, `not`\n",
    "    * `in`\n",
    "* Dot notation\n",
    "    * Real-world analogy\n",
    "        * `car.drive()`\n",
    "        * `car.turn_on_ac()`"
   ]
  },
  {
   "cell_type": "code",
   "execution_count": null,
   "id": "5237f5ba",
   "metadata": {},
   "outputs": [],
   "source": []
  },
  {
   "cell_type": "code",
   "execution_count": null,
   "id": "0b39c71f",
   "metadata": {},
   "outputs": [],
   "source": []
  },
  {
   "cell_type": "code",
   "execution_count": null,
   "id": "7e2df797",
   "metadata": {},
   "outputs": [],
   "source": []
  },
  {
   "cell_type": "code",
   "execution_count": null,
   "id": "3109b250",
   "metadata": {},
   "outputs": [],
   "source": []
  },
  {
   "cell_type": "markdown",
   "id": "61d1a74a",
   "metadata": {},
   "source": [
    "## Conditional statements\n",
    "\n",
    "* `if/else` branches - execute part of your code based on a boolean condition\n",
    "\n",
    "```\n",
    "if conditional:\n",
    "    code block executed \n",
    "    only when condition \n",
    "    evaluates as True\n",
    "else:\n",
    "    code block executed\n",
    "    only when condition\n",
    "    evaluates as False\n",
    "```"
   ]
  },
  {
   "cell_type": "code",
   "execution_count": null,
   "id": "04516053",
   "metadata": {},
   "outputs": [],
   "source": [
    "my_string = 'python programming'\n",
    "if my_string.count('t') >= 3:\n",
    "    print(\"This string has three or more t's \")\n",
    "else:\n",
    "    print(\"This string has less than three t's\")"
   ]
  },
  {
   "cell_type": "code",
   "execution_count": null,
   "id": "7e0b21cf",
   "metadata": {},
   "outputs": [],
   "source": []
  },
  {
   "cell_type": "code",
   "execution_count": null,
   "id": "7074a806",
   "metadata": {},
   "outputs": [],
   "source": []
  },
  {
   "cell_type": "markdown",
   "id": "bf71bd38",
   "metadata": {},
   "source": [
    "## Looping\n",
    "\n",
    "Repeat the same code over and over again\n",
    "\n",
    "* for loops\n",
    "    * iterate a set number of times\n",
    "* while loops\n",
    "    * iterate until a condition is "
   ]
  },
  {
   "cell_type": "code",
   "execution_count": null,
   "id": "018d4427",
   "metadata": {},
   "outputs": [],
   "source": [
    "for i in range(10):\n",
    "    squared = i ** 2\n",
    "    print(f'{i} squared is {i ** 2}')"
   ]
  },
  {
   "cell_type": "markdown",
   "id": "9c485b77",
   "metadata": {},
   "source": [
    "### How many years until one million dollars?"
   ]
  },
  {
   "cell_type": "code",
   "execution_count": null,
   "id": "0d43785d",
   "metadata": {},
   "outputs": [],
   "source": [
    "money = 10_000\n",
    "yearly_addition = 1_000\n",
    "interest = 0.05\n",
    "years = 0\n",
    "while money < 1_000_000:\n",
    "    money *= 1 + interest\n",
    "    money += yearly_addition\n",
    "    years += 1\n",
    "    print(f'End of year {years}: {money:0,.2f}')"
   ]
  },
  {
   "cell_type": "code",
   "execution_count": null,
   "id": "e4f27ada",
   "metadata": {},
   "outputs": [],
   "source": []
  },
  {
   "cell_type": "code",
   "execution_count": null,
   "id": "52cfdf9a",
   "metadata": {},
   "outputs": [],
   "source": []
  },
  {
   "cell_type": "markdown",
   "id": "5e572bd4",
   "metadata": {},
   "source": [
    "## Functions\n",
    "\n",
    "Reusable code\n",
    "* Must \"call\" function with parentheses\n",
    "    * All Python functions - https://docs.python.org/3/library/functions.html"
   ]
  },
  {
   "cell_type": "code",
   "execution_count": null,
   "id": "14bbf0e8",
   "metadata": {},
   "outputs": [],
   "source": []
  },
  {
   "cell_type": "code",
   "execution_count": null,
   "id": "c85673d8",
   "metadata": {},
   "outputs": [],
   "source": []
  },
  {
   "cell_type": "markdown",
   "id": "1af6f7d4",
   "metadata": {},
   "source": [
    "## User defined functions\n",
    "\n",
    "* Create your own functions\n",
    "* Can accept arguments - things you pass to it to change the behavior"
   ]
  },
  {
   "cell_type": "code",
   "execution_count": null,
   "id": "48bf6861",
   "metadata": {},
   "outputs": [],
   "source": [
    "def calculate_investment(money, yearly_addition, interest_rate, years):\n",
    "    money_no_interest = money\n",
    "    for year in range(years):\n",
    "        money *= 1 + interest_rate\n",
    "        money += yearly_addition\n",
    "        money_no_interest += yearly_addition\n",
    "        print(f'End of year {year + 1}: {money:,.0f}\\t '\n",
    "              f'Without interest {money_no_interest}\\t  Difference {money - money_no_interest:,.0f}')"
   ]
  },
  {
   "cell_type": "code",
   "execution_count": null,
   "id": "9965eddf",
   "metadata": {},
   "outputs": [],
   "source": [
    "calculate_investment(10_000, 1_000, 0.09, 30)"
   ]
  },
  {
   "cell_type": "markdown",
   "id": "1ee294c2",
   "metadata": {},
   "source": [
    "## An Entire Python Program - Hangman!"
   ]
  },
  {
   "cell_type": "code",
   "execution_count": null,
   "id": "06e6b767",
   "metadata": {
    "scrolled": true
   },
   "outputs": [],
   "source": [
    "import random\n",
    "import string\n",
    "import time\n",
    "\n",
    "TOTAL_GUESSES = 7\n",
    "WORDS = [\"python\", \"houston\", \"data\", \"science\", \"house\", \"zebra\", \"phone\", \"pencil\",\n",
    "         \"health\", \"table\", \"chairs\", \"desk\", \"friend\", \"yards\", \"soccer\", \"world\"]\n",
    "\n",
    "def display_board(current_word, all_guesses, correct_guesses, wrong_guesses):\n",
    "    for char in current_word:\n",
    "        if char in correct_guesses:\n",
    "            print(char, end=' ')\n",
    "        else:\n",
    "            print('_', end=' ')\n",
    "            \n",
    "    remaining_guesses = TOTAL_GUESSES - len(wrong_guesses)\n",
    "    print(f'    Guesses remaining: {remaining_guesses}')\n",
    "    \n",
    "    previously_guessed = ','.join(all_guesses)\n",
    "    print(f'    Previously guessed letters {previously_guessed}')\n",
    "    \n",
    "def get_guess(current_word, all_guesses, correct_guesses, wrong_guesses):\n",
    "    print()\n",
    "    while True:\n",
    "        guess = input('Guess a letter:')\n",
    "        guess = guess.lower()\n",
    "        if guess in string.ascii_lowercase and guess not in all_guesses:\n",
    "            if guess in current_word:\n",
    "                correct_guesses.add(guess)\n",
    "                print('Correct!')\n",
    "            else:\n",
    "                wrong_guesses.add(guess)\n",
    "                print('Wrong :(')\n",
    "            all_guesses.add(guess)\n",
    "            break\n",
    "        else:\n",
    "            print('Bad guess')\n",
    "        \n",
    "def end_game(current_word, wrong_guesses):\n",
    "    if len(wrong_guesses) == 7:\n",
    "        print(f'You lose. The word was: {current_word}')\n",
    "    else:\n",
    "        print(f'You win!!! The word was {current_word}')\n",
    "    \n",
    "def main():\n",
    "    current_word = random.choice(WORDS)\n",
    "\n",
    "    word_set = set(current_word)\n",
    "    wrong_guesses = set()\n",
    "    correct_guesses = set()\n",
    "    all_guesses = set()\n",
    "    \n",
    "    while len(wrong_guesses) != 7 and len(correct_guesses) != len(word_set):\n",
    "        print()\n",
    "        display_board(current_word, all_guesses, correct_guesses, wrong_guesses)\n",
    "        get_guess(current_word, all_guesses, correct_guesses, wrong_guesses)\n",
    "        time.sleep(1)\n",
    "        \n",
    "    end_game(current_word, wrong_guesses)\n",
    "    \n",
    "main()"
   ]
  },
  {
   "cell_type": "code",
   "execution_count": null,
   "id": "570a55cf",
   "metadata": {},
   "outputs": [],
   "source": []
  }
 ],
 "metadata": {
  "kernelspec": {
   "display_name": "Python 3 (ipykernel)",
   "language": "python",
   "name": "python3"
  },
  "language_info": {
   "codemirror_mode": {
    "name": "ipython",
    "version": 3
   },
   "file_extension": ".py",
   "mimetype": "text/x-python",
   "name": "python",
   "nbconvert_exporter": "python",
   "pygments_lexer": "ipython3",
   "version": "3.8.11"
  }
 },
 "nbformat": 4,
 "nbformat_minor": 5
}
