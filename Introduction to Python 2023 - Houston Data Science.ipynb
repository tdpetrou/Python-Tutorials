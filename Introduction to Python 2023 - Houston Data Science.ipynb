{
 "cells": [
  {
   "cell_type": "markdown",
   "id": "25ef4b4e",
   "metadata": {},
   "source": [
    "# Introduction to Python 2023 - Houston Data Science\n",
    "\n",
    "Happy New Year!!! Welcome to our first meetup of 2023! [Houston Data Science meetup][1] is a group that meets to learn about the theory and practice of data science.\n",
    "\n",
    "![2]\n",
    "\n",
    "In this meetup, we will get introduced to the [Python programming language][3].\n",
    "\n",
    "[1]: https://www.meetup.com/Houston-Data-Science/\n",
    "[2]: images/intropython2023.png\n",
    "[3]: https://python.org"
   ]
  },
  {
   "cell_type": "code",
   "execution_count": null,
   "id": "5f5459cb",
   "metadata": {},
   "outputs": [],
   "source": []
  }
 ],
 "metadata": {
  "kernelspec": {
   "display_name": "Python 3 (ipykernel)",
   "language": "python",
   "name": "python3"
  },
  "language_info": {
   "codemirror_mode": {
    "name": "ipython",
    "version": 3
   },
   "file_extension": ".py",
   "mimetype": "text/x-python",
   "name": "python",
   "nbconvert_exporter": "python",
   "pygments_lexer": "ipython3",
   "version": "3.8.11"
  }
 },
 "nbformat": 4,
 "nbformat_minor": 5
}
